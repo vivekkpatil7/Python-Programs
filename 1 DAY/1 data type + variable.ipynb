{
  "nbformat": 4,
  "nbformat_minor": 0,
  "metadata": {
    "colab": {
      "name": "data type(1) + type() + variable.ipynb",
      "provenance": []
    },
    "kernelspec": {
      "name": "python3",
      "display_name": "Python 3"
    },
    "language_info": {
      "name": "python"
    }
  },
  "cells": [
    {
      "cell_type": "code",
      "execution_count": 1,
      "metadata": {
        "colab": {
          "base_uri": "https://localhost:8080/"
        },
        "id": "AojvpCsF7r-R",
        "outputId": "40333c16-e04c-4e3b-afe0-da62dd7500d7"
      },
      "outputs": [
        {
          "output_type": "execute_result",
          "data": {
            "text/plain": [
              "4"
            ]
          },
          "metadata": {},
          "execution_count": 1
        }
      ],
      "source": [
        "#first day \n",
        "2 + 2\n"
      ]
    },
    {
      "cell_type": "code",
      "source": [
        "a  = 2 \n",
        "b  = 4\n",
        "a + b"
      ],
      "metadata": {
        "id": "Fq6pXObP7wyH"
      },
      "execution_count": null,
      "outputs": []
    },
    {
      "cell_type": "code",
      "source": [
        "a  = 2 \n",
        "b  = 2 \n",
        "c = a + b\n",
        "print(c)\n"
      ],
      "metadata": {
        "id": "hLXvttdN71gU"
      },
      "execution_count": null,
      "outputs": []
    },
    {
      "cell_type": "code",
      "source": [
        "a  = 2 \n",
        "b  = 2.5\n",
        "c = a + b\n",
        "print(c)\n"
      ],
      "metadata": {
        "id": "qytHe08a73dI"
      },
      "execution_count": null,
      "outputs": []
    },
    {
      "cell_type": "code",
      "source": [
        "type(c)"
      ],
      "metadata": {
        "id": "CMreqzWk75-M"
      },
      "execution_count": null,
      "outputs": []
    },
    {
      "cell_type": "code",
      "source": [
        "type(1.5)"
      ],
      "metadata": {
        "id": "KRH2chq2760F"
      },
      "execution_count": null,
      "outputs": []
    },
    {
      "cell_type": "code",
      "source": [
        "type(1)"
      ],
      "metadata": {
        "id": "fXVVQE1O8A3_"
      },
      "execution_count": null,
      "outputs": []
    },
    {
      "cell_type": "code",
      "source": [
        "type(1+5j)"
      ],
      "metadata": {
        "id": "HjJALPx98Cca"
      },
      "execution_count": null,
      "outputs": []
    },
    {
      "cell_type": "code",
      "source": [
        "type('hello python')"
      ],
      "metadata": {
        "id": "Qswapj1M8CX5"
      },
      "execution_count": null,
      "outputs": []
    },
    {
      "cell_type": "code",
      "source": [
        "name = input('What is your name? : -   ') #promts user input in console and store in a variable\n",
        "print('Welcome to the wonderfull world of Python ' + name) # prints to console\n",
        "print(\"Nice to have you\") "
      ],
      "metadata": {
        "id": "MqoUmWi_8CVs"
      },
      "execution_count": null,
      "outputs": []
    },
    {
      "cell_type": "code",
      "source": [
        "age = int(input(\"my age is : - \"))\n",
        "add = age + 10\n",
        "print(add)"
      ],
      "metadata": {
        "id": "vrC9A72g8CS6"
      },
      "execution_count": null,
      "outputs": []
    },
    {
      "cell_type": "code",
      "source": [
        "r = int(input(\"Enter circle radius : - \"))\n",
        "area = 3.14 * r * r \n",
        "diameter = 2 * r \n",
        "print(int(area))\n",
        "print(float(diameter))"
      ],
      "metadata": {
        "id": "SQomLmLg8CQm"
      },
      "execution_count": null,
      "outputs": []
    },
    {
      "cell_type": "code",
      "source": [
        "v = \"vivekpatillllllllll\"\n",
        "len(v)"
      ],
      "metadata": {
        "id": "f7-sZ4f-8CNy"
      },
      "execution_count": null,
      "outputs": []
    },
    {
      "cell_type": "code",
      "source": [
        "num = 100 # variable assignement\n",
        "print(type(num)) # <class 'int'>\n",
        "\n",
        "num2 = 99.99\n",
        "print(type(num2)) # <class 'float>\n",
        "\n",
        "expression1 = num * 10\n",
        "print(type(expression1)) # <class 'int'>\n",
        "\n",
        "expression2 = num + num2\n",
        "print(type(expression2)) # <class 'float'>"
      ],
      "metadata": {
        "id": "FTXmdbQV8CLy"
      },
      "execution_count": null,
      "outputs": []
    },
    {
      "cell_type": "code",
      "source": [
        "import math\n",
        "print(round(2.1)) # 2\n",
        "print(round(5.9)) # 6\n",
        "print(abs(-34)) # 34"
      ],
      "metadata": {
        "id": "4eb7yatI8CJT"
      },
      "execution_count": null,
      "outputs": []
    },
    {
      "cell_type": "code",
      "source": [
        "#Strings in Python are an ordered sequence of characters (similar to C).\n",
        "\n",
        "name = 'Python' # string assignment within single quotes\n",
        "name2 = \"Python\" # string assingment within double quotes\n",
        "name3 = '''This is a a very long string and supports \n",
        "            multiline statements as well''' # string assingment within 3 single quotes\n",
        "name4 = 'Hello! \\\"Rockstar Programmer\\\"' # string with escaped character sequence\n",
        "print(name) # <class 'str'>\n",
        "print(name2) # <class 'str'>\n",
        "print(name3) # <class 'str'>\n",
        "print(name4) # <class 'str'>\n",
        "print(type(name)) # <class 'str'>\n",
        "print(type(name2)) # <class 'str'>\n",
        "print(type(name3)) # <class 'str'>\n",
        "print(type(name4)) # <class 'str'>"
      ],
      "metadata": {
        "id": "U2QS3p3x8CG0"
      },
      "execution_count": null,
      "outputs": []
    },
    {
      "cell_type": "code",
      "source": [
        "#String Concatenation\n",
        "first_name = 'rohit'\n",
        "last_name = 'sharma'\n",
        "print(first_name + ' ' + last_name) # Rohit sharma"
      ],
      "metadata": {
        "id": "xheoJxGN8CEL"
      },
      "execution_count": null,
      "outputs": []
    },
    {
      "cell_type": "code",
      "source": [
        "#Type Conversion\n",
        "\n",
        "user_name = 'John'\n",
        "age = 40\n",
        "print(user_name + age) # TypeError: can only concatenate str (not \"int\") to str\n",
        "    # This would work in Javscript where it would convert the result to string type"
      ],
      "metadata": {
        "id": "1qRuh5wS8CBV"
      },
      "execution_count": null,
      "outputs": []
    },
    {
      "cell_type": "code",
      "source": [
        "#Type Conversion\n",
        "\n",
        "user_name = 'John'\n",
        "age = 40\n",
        "print(user_name + ' is  ' +str(age)) # TypeError: can only concatenate str (not \"int\") to str\n",
        "    # This would work in Javscript where it would convert the result to string type"
      ],
      "metadata": {
        "id": "3FXo8STf8B-8"
      },
      "execution_count": null,
      "outputs": []
    },
    {
      "cell_type": "code",
      "source": [
        "first_name = 'Rohit'\n",
        "last_name = 'Sharma'\n",
        "welcome_message = \"Welcome\" + \" \" + first_name + \" \" + last_name\n",
        "print(welcome_message) # Welcome Rohit sharma"
      ],
      "metadata": {
        "id": "EZFHp0x38B8w"
      },
      "execution_count": null,
      "outputs": []
    },
    {
      "cell_type": "code",
      "source": [
        "first_name = 'Rohit'\n",
        "last_name = 'Sharma'\n",
        "welcome_message = f'Welcome {first_name} {last_name}'\n",
        "print(welcome_message) # Welcome Rohit sharma"
      ],
      "metadata": {
        "id": "rYsfQSVH8B54"
      },
      "execution_count": null,
      "outputs": []
    },
    {
      "cell_type": "code",
      "source": [
        ""
      ],
      "metadata": {
        "id": "Chr33syp8B3J"
      },
      "execution_count": null,
      "outputs": []
    },
    {
      "cell_type": "code",
      "source": [
        ""
      ],
      "metadata": {
        "id": "Inm8JHZZ8B0-"
      },
      "execution_count": null,
      "outputs": []
    },
    {
      "cell_type": "code",
      "source": [
        ""
      ],
      "metadata": {
        "id": "oGbiofVM8ByW"
      },
      "execution_count": null,
      "outputs": []
    },
    {
      "cell_type": "code",
      "source": [
        ""
      ],
      "metadata": {
        "id": "dTz8j6Ni8Bv-"
      },
      "execution_count": null,
      "outputs": []
    },
    {
      "cell_type": "code",
      "source": [
        ""
      ],
      "metadata": {
        "id": "SUo8BoRh8Bt3"
      },
      "execution_count": null,
      "outputs": []
    },
    {
      "cell_type": "code",
      "source": [
        ""
      ],
      "metadata": {
        "id": "2dfsXms48Brj"
      },
      "execution_count": null,
      "outputs": []
    },
    {
      "cell_type": "code",
      "source": [
        ""
      ],
      "metadata": {
        "id": "6bMEMiLf8Bo6"
      },
      "execution_count": null,
      "outputs": []
    },
    {
      "cell_type": "code",
      "source": [
        ""
      ],
      "metadata": {
        "id": "TrdVhINz8Bmk"
      },
      "execution_count": null,
      "outputs": []
    },
    {
      "cell_type": "code",
      "source": [
        ""
      ],
      "metadata": {
        "id": "Fd290k_e8Bks"
      },
      "execution_count": null,
      "outputs": []
    }
  ]
}