{
  "nbformat": 4,
  "nbformat_minor": 0,
  "metadata": {
    "colab": {
      "name": "7_Python List Part 1.ipynb",
      "provenance": []
    },
    "kernelspec": {
      "name": "python3",
      "display_name": "Python 3"
    },
    "language_info": {
      "name": "python"
    }
  },
  "cells": [
    {
      "cell_type": "markdown",
      "source": [
        "### List"
      ],
      "metadata": {
        "id": "B_Khn-aQk7Ok"
      }
    },
    {
      "cell_type": "markdown",
      "source": [
        "Lists are used to store multiple items in a single variable.\n",
        "\n",
        "Lists are one of 4 built-in data types in Python used to store collections of data, the other 3 are Tuple, Set, and Dictionary, all with different qualities and usage.\n",
        "\n"
      ],
      "metadata": {
        "id": "cTAFdNjJk_Yi"
      }
    },
    {
      "cell_type": "markdown",
      "source": [
        "List items are ordered, changeable, and allow duplicate values.\n",
        "\n",
        "List items are indexed, the first item has index [0], the second item has index [1] etc.\n",
        "\n"
      ],
      "metadata": {
        "id": "yylDPpNJlHPP"
      }
    },
    {
      "cell_type": "code",
      "source": [
        "mylist = [\"python\", \"java\", \"SQL\"]\n",
        "mylist"
      ],
      "metadata": {
        "colab": {
          "base_uri": "https://localhost:8080/"
        },
        "id": "OGS2DI8Nlps9",
        "outputId": "0e42b2c2-dcdc-4e54-ec99-e44fe3f1267e"
      },
      "execution_count": null,
      "outputs": [
        {
          "output_type": "execute_result",
          "data": {
            "text/plain": [
              "['apple', 'banana', 'cherry']"
            ]
          },
          "metadata": {},
          "execution_count": 1
        }
      ]
    },
    {
      "cell_type": "markdown",
      "source": [
        "### Ordered\n",
        "When we say that lists are ordered, it means that the items have a defined order, and that order will not change.\n",
        "\n",
        "If you add new items to a list, the new items will be placed at the end of the list."
      ],
      "metadata": {
        "id": "rxdxBPtYlR2Y"
      }
    },
    {
      "cell_type": "markdown",
      "source": [
        "### Changeable\n",
        "The list is changeable, meaning that we can change, add, and remove items in a list after it has been created."
      ],
      "metadata": {
        "id": "hdFFarqXlTxs"
      }
    },
    {
      "cell_type": "code",
      "source": [
        "thislist = [\"python\", \"java\", \"SQL\"]\n",
        "thislist[1] = \"java\"\n",
        "print(thislist)"
      ],
      "metadata": {
        "colab": {
          "base_uri": "https://localhost:8080/"
        },
        "id": "A_PMouuxmMxb",
        "outputId": "3deb6089-804c-423e-fcb3-0c31702816a9"
      },
      "execution_count": null,
      "outputs": [
        {
          "output_type": "stream",
          "name": "stdout",
          "text": [
            "['python', 'java', 'SQL']\n"
          ]
        }
      ]
    },
    {
      "cell_type": "code",
      "source": [
        "thislist = [\"python\", \"java\", \"SQL\",'ruby','php','html']\n",
        "thislist[1:3] = [\"go\", \"css\"]\n",
        "print(thislist)\n"
      ],
      "metadata": {
        "colab": {
          "base_uri": "https://localhost:8080/"
        },
        "id": "9LxhFHsTmOkQ",
        "outputId": "f6f25b0c-6a27-4fdd-e47f-d5b1c62196a4"
      },
      "execution_count": null,
      "outputs": [
        {
          "output_type": "stream",
          "name": "stdout",
          "text": [
            "['python', 'go', 'css', 'ruby', 'php', 'html']\n"
          ]
        }
      ]
    },
    {
      "cell_type": "code",
      "source": [
        "thislist = [\"python\", \"java\", \"SQL\"]\n",
        "thislist[1:2] = [\"go\", \"css\"]\n",
        "print(thislist)"
      ],
      "metadata": {
        "colab": {
          "base_uri": "https://localhost:8080/"
        },
        "id": "N1XDyhc2mSb-",
        "outputId": "66dc0b41-5036-4a2a-b461-c3d5940d5205"
      },
      "execution_count": null,
      "outputs": [
        {
          "output_type": "stream",
          "name": "stdout",
          "text": [
            "['python', 'go', 'css', 'SQL']\n"
          ]
        }
      ]
    },
    {
      "cell_type": "code",
      "source": [
        "thislist = [\"python\", \"java\", \"SQL\"]\n",
        "thislist[1:3] = [\"go\"]\n",
        "print(thislist)"
      ],
      "metadata": {
        "colab": {
          "base_uri": "https://localhost:8080/"
        },
        "id": "f9S4Hb4mmUlv",
        "outputId": "4de595d2-fd44-4963-cf7e-ce4f177672d7"
      },
      "execution_count": null,
      "outputs": [
        {
          "output_type": "stream",
          "name": "stdout",
          "text": [
            "['python', 'go']\n"
          ]
        }
      ]
    },
    {
      "cell_type": "markdown",
      "source": [
        "### Allow Duplicates\n",
        "Since lists are indexed, lists can have items with the same value:\n",
        "\n"
      ],
      "metadata": {
        "id": "_PByBGkzlX6h"
      }
    },
    {
      "cell_type": "code",
      "execution_count": null,
      "metadata": {
        "colab": {
          "base_uri": "https://localhost:8080/"
        },
        "id": "M0Aj3BC-ksM4",
        "outputId": "3ca33f86-d1a1-4bd3-bcb5-2b51f44c8779"
      },
      "outputs": [
        {
          "output_type": "stream",
          "name": "stdout",
          "text": [
            "['python', 'java', 'SQL', 'ruby', 'php', 'html']\n"
          ]
        }
      ],
      "source": [
        "thislist = [\"python\", \"java\", \"SQL\",'ruby','php','html']\n",
        "print(thislist)\n"
      ]
    },
    {
      "cell_type": "code",
      "source": [
        "thislist = [\"python\", \"java\", \"SQL\"]\n",
        "print(thislist[1])\n"
      ],
      "metadata": {
        "colab": {
          "base_uri": "https://localhost:8080/"
        },
        "id": "5gI4Ee0tlvxI",
        "outputId": "b031489e-6d88-46d3-bf01-8f3b22ff6bf6"
      },
      "execution_count": null,
      "outputs": [
        {
          "output_type": "stream",
          "name": "stdout",
          "text": [
            "java\n"
          ]
        }
      ]
    },
    {
      "cell_type": "code",
      "source": [
        "thislist = [\"python\", \"java\", \"SQL\"]\n",
        "print(thislist[-1])"
      ],
      "metadata": {
        "colab": {
          "base_uri": "https://localhost:8080/"
        },
        "id": "ef9mRwaflyjD",
        "outputId": "e98736da-e0ae-414b-fde7-b902c9ce53ab"
      },
      "execution_count": null,
      "outputs": [
        {
          "output_type": "stream",
          "name": "stdout",
          "text": [
            "SQL\n"
          ]
        }
      ]
    },
    {
      "cell_type": "code",
      "source": [
        "thislist = [\"python\", \"java\", \"SQL\",'ruby','php','html']\n",
        "print(thislist)\n",
        "print(thislist[2:5])"
      ],
      "metadata": {
        "colab": {
          "base_uri": "https://localhost:8080/"
        },
        "id": "WQeB_DOrl1eo",
        "outputId": "d4e49128-6272-428b-e732-c9d4f692528b"
      },
      "execution_count": null,
      "outputs": [
        {
          "output_type": "stream",
          "name": "stdout",
          "text": [
            "['python', 'java', 'SQL', 'ruby', 'php', 'html']\n",
            "['SQL', 'ruby', 'php']\n"
          ]
        }
      ]
    },
    {
      "cell_type": "code",
      "source": [
        "thislist = [\"python\", \"java\", \"SQL\",'ruby','php','html']\n",
        "print(thislist)\n",
        "print(thislist[:4])"
      ],
      "metadata": {
        "colab": {
          "base_uri": "https://localhost:8080/"
        },
        "id": "xN_IGM65l3Ur",
        "outputId": "a9e50c2b-06e6-4ad4-b41c-b6c0896bd0d4"
      },
      "execution_count": null,
      "outputs": [
        {
          "output_type": "stream",
          "name": "stdout",
          "text": [
            "['python', 'java', 'SQL', 'ruby', 'php', 'html']\n",
            "['python', 'java', 'SQL', 'ruby']\n"
          ]
        }
      ]
    },
    {
      "cell_type": "code",
      "source": [
        "thislist = [\"python\", \"java\", \"SQL\",'ruby','php','html']\n",
        "print(thislist)\n",
        "print(thislist[2:])"
      ],
      "metadata": {
        "colab": {
          "base_uri": "https://localhost:8080/"
        },
        "id": "tfeOQ4y5l5Sn",
        "outputId": "ab7a6768-20a1-4837-e1c2-6d58153c2577"
      },
      "execution_count": null,
      "outputs": [
        {
          "output_type": "stream",
          "name": "stdout",
          "text": [
            "['python', 'java', 'SQL', 'ruby', 'php', 'html']\n",
            "['SQL', 'ruby', 'php', 'html']\n"
          ]
        }
      ]
    },
    {
      "cell_type": "code",
      "source": [
        "thislist = [\"python\", \"java\", \"SQL\"]\n",
        "thislist.append(\"R\")\n",
        "print(thislist)"
      ],
      "metadata": {
        "colab": {
          "base_uri": "https://localhost:8080/"
        },
        "id": "zjniWU5il75H",
        "outputId": "77ce1f9f-4c7b-46ad-a4b8-79f150bb9668"
      },
      "execution_count": null,
      "outputs": [
        {
          "output_type": "stream",
          "name": "stdout",
          "text": [
            "['python', 'java', 'SQL', 'R']\n"
          ]
        }
      ]
    },
    {
      "cell_type": "code",
      "source": [
        "thislist = [\"python\", \"java\", \"SQL\"]\n",
        "thislist.insert(1, \"R\")\n",
        "print(thislist)"
      ],
      "metadata": {
        "colab": {
          "base_uri": "https://localhost:8080/"
        },
        "id": "-yKUcB1jmmaO",
        "outputId": "561cbb8b-13a3-4aff-eeff-237a51c5ae73"
      },
      "execution_count": null,
      "outputs": [
        {
          "output_type": "stream",
          "name": "stdout",
          "text": [
            "['python', 'R', 'java', 'SQL']\n"
          ]
        }
      ]
    },
    {
      "cell_type": "code",
      "source": [
        "thislist = [\"python\", \"java\", \"SQL\"]\n",
        "tropical = [\"mangoDB\", \"CSS\", \"Flask\"]\n",
        "thislist.extend(tropical)\n",
        "print(thislist)\n"
      ],
      "metadata": {
        "colab": {
          "base_uri": "https://localhost:8080/"
        },
        "id": "8oODU4msmodb",
        "outputId": "f0d37532-56cf-4324-925f-3b60ce5db4eb"
      },
      "execution_count": null,
      "outputs": [
        {
          "output_type": "stream",
          "name": "stdout",
          "text": [
            "['python', 'java', 'SQL', 'mangoDB', 'CSS', 'Flask']\n"
          ]
        }
      ]
    },
    {
      "cell_type": "code",
      "source": [
        "thislist = [\"python\", \"java\", \"SQL\"]\n",
        "thislist.remove(\"mangoDB\")\n",
        "print(thislist)"
      ],
      "metadata": {
        "colab": {
          "base_uri": "https://localhost:8080/",
          "height": 200
        },
        "id": "TQlhRTl-mqiN",
        "outputId": "e29d5d8d-9717-484f-aedf-bd8e4f655f3c"
      },
      "execution_count": null,
      "outputs": [
        {
          "output_type": "error",
          "ename": "ValueError",
          "evalue": "ignored",
          "traceback": [
            "\u001b[0;31m---------------------------------------------------------------------------\u001b[0m",
            "\u001b[0;31mValueError\u001b[0m                                Traceback (most recent call last)",
            "\u001b[0;32m<ipython-input-47-9cd71089a56a>\u001b[0m in \u001b[0;36m<module>\u001b[0;34m()\u001b[0m\n\u001b[1;32m      1\u001b[0m \u001b[0mthislist\u001b[0m \u001b[0;34m=\u001b[0m \u001b[0;34m[\u001b[0m\u001b[0;34m\"python\"\u001b[0m\u001b[0;34m,\u001b[0m \u001b[0;34m\"java\"\u001b[0m\u001b[0;34m,\u001b[0m \u001b[0;34m\"SQL\"\u001b[0m\u001b[0;34m]\u001b[0m\u001b[0;34m\u001b[0m\u001b[0;34m\u001b[0m\u001b[0m\n\u001b[0;32m----> 2\u001b[0;31m \u001b[0mthislist\u001b[0m\u001b[0;34m.\u001b[0m\u001b[0mremove\u001b[0m\u001b[0;34m(\u001b[0m\u001b[0;34m\"mangoDB\"\u001b[0m\u001b[0;34m)\u001b[0m\u001b[0;34m\u001b[0m\u001b[0;34m\u001b[0m\u001b[0m\n\u001b[0m\u001b[1;32m      3\u001b[0m \u001b[0mprint\u001b[0m\u001b[0;34m(\u001b[0m\u001b[0mthislist\u001b[0m\u001b[0;34m)\u001b[0m\u001b[0;34m\u001b[0m\u001b[0;34m\u001b[0m\u001b[0m\n",
            "\u001b[0;31mValueError\u001b[0m: list.remove(x): x not in list"
          ]
        }
      ]
    },
    {
      "cell_type": "code",
      "source": [
        "thislist = [\"python\", \"java\", \"SQL\"]\n",
        "thislist.pop(1)\n",
        "print(thislist)\n"
      ],
      "metadata": {
        "id": "hhrp_MyTm26q"
      },
      "execution_count": null,
      "outputs": []
    },
    {
      "cell_type": "code",
      "source": [
        "thislist = [\"python\", \"java\", \"SQL\"]\n",
        "del thislist[0]\n",
        "print(thislist)"
      ],
      "metadata": {
        "id": "nKymS2rsm4SC"
      },
      "execution_count": null,
      "outputs": []
    },
    {
      "cell_type": "code",
      "source": [
        "thislist = [\"python\", \"java\", \"SQL\"]\n",
        "del thislist"
      ],
      "metadata": {
        "id": "6Aa9sNGWm8hi"
      },
      "execution_count": null,
      "outputs": []
    },
    {
      "cell_type": "code",
      "source": [
        "thislist = [\"python\", \"java\", \"SQL\"]\n",
        "thislist.clear()\n",
        "print(thislist)"
      ],
      "metadata": {
        "colab": {
          "base_uri": "https://localhost:8080/"
        },
        "id": "i_spIbQ4m-_5",
        "outputId": "2db6eb3f-e14b-4887-ba85-1b42897fc0d8"
      },
      "execution_count": null,
      "outputs": [
        {
          "output_type": "stream",
          "name": "stdout",
          "text": [
            "[]\n"
          ]
        }
      ]
    },
    {
      "cell_type": "code",
      "source": [
        "thislist = [\"python\", \"java\", \"SQL\"]\n",
        "for x in thislist:\n",
        "  print(x)"
      ],
      "metadata": {
        "colab": {
          "base_uri": "https://localhost:8080/"
        },
        "id": "-Q8MujzrnBBr",
        "outputId": "3375e9a7-3fd6-4910-ab05-f7ae2df498e2"
      },
      "execution_count": null,
      "outputs": [
        {
          "output_type": "stream",
          "name": "stdout",
          "text": [
            "python\n",
            "java\n",
            "SQL\n"
          ]
        }
      ]
    },
    {
      "cell_type": "code",
      "source": [
        "thislist = [\"python\", \"java\", \"SQL\"]\n",
        "for i in range(len(thislist)):\n",
        "  print(thislist[i])"
      ],
      "metadata": {
        "colab": {
          "base_uri": "https://localhost:8080/"
        },
        "id": "ocT138aOnEq0",
        "outputId": "7c7279bb-89d4-44fc-c73e-833674351f62"
      },
      "execution_count": null,
      "outputs": [
        {
          "output_type": "stream",
          "name": "stdout",
          "text": [
            "python\n",
            "java\n",
            "SQL\n"
          ]
        }
      ]
    },
    {
      "cell_type": "markdown",
      "source": [
        "### Python - List Comprehension\n"
      ],
      "metadata": {
        "id": "7RnjlXwUnPL6"
      }
    },
    {
      "cell_type": "markdown",
      "source": [
        "List comprehension offers a shorter syntax when you want to create a new list based on the values of an existing list.\n",
        "\n"
      ],
      "metadata": {
        "id": "syB429QMnUbY"
      }
    },
    {
      "cell_type": "code",
      "source": [
        "fruits = [\"python\", \"java\", \"SQL\"]\n",
        "newlist = []\n",
        "\n",
        "for x in fruits:\n",
        "  if \"a\" in x:\n",
        "    newlist.append(x)\n",
        "\n",
        "print(newlist)"
      ],
      "metadata": {
        "colab": {
          "base_uri": "https://localhost:8080/"
        },
        "id": "j4Ls-ZRRnI46",
        "outputId": "cc1c41fe-d13c-4cad-efbe-ff5e410211ca"
      },
      "execution_count": null,
      "outputs": [
        {
          "output_type": "stream",
          "name": "stdout",
          "text": [
            "['java']\n"
          ]
        }
      ]
    },
    {
      "cell_type": "markdown",
      "source": [
        "### Sort List Alphanumerically\n",
        "\n"
      ],
      "metadata": {
        "id": "Kpzt-VDVn60T"
      }
    },
    {
      "cell_type": "code",
      "source": [
        "thislist = [\"python\", \"java\", \"SQL\",'ruby','php','html']\n",
        "thislist.sort()\n",
        "print(thislist)"
      ],
      "metadata": {
        "colab": {
          "base_uri": "https://localhost:8080/"
        },
        "id": "uqo-Qr2_n2Kp",
        "outputId": "1af99e2b-166d-4262-c867-8088e6a4be0d"
      },
      "execution_count": null,
      "outputs": [
        {
          "output_type": "stream",
          "name": "stdout",
          "text": [
            "['SQL', 'html', 'java', 'php', 'python', 'ruby']\n"
          ]
        }
      ]
    },
    {
      "cell_type": "code",
      "source": [
        "thislist = [100, 50, 65, 82, 23]\n",
        "thislist.sort()\n",
        "print(thislist)"
      ],
      "metadata": {
        "colab": {
          "base_uri": "https://localhost:8080/"
        },
        "id": "qwmSRALxn_6S",
        "outputId": "45b2e0f9-4906-4fb5-d816-e10824d2895c"
      },
      "execution_count": null,
      "outputs": [
        {
          "output_type": "stream",
          "name": "stdout",
          "text": [
            "[23, 50, 65, 82, 100]\n"
          ]
        }
      ]
    },
    {
      "cell_type": "code",
      "source": [
        "thislist = [\"python\", \"java\", \"SQL\",'ruby','php','html']\n",
        "thislist.sort(reverse = True)\n",
        "print(thislist)\n"
      ],
      "metadata": {
        "colab": {
          "base_uri": "https://localhost:8080/"
        },
        "id": "L6NZimpeoBgF",
        "outputId": "d2635453-abe8-4723-b2ce-78264c22776d"
      },
      "execution_count": null,
      "outputs": [
        {
          "output_type": "stream",
          "name": "stdout",
          "text": [
            "['ruby', 'python', 'php', 'java', 'html', 'SQL']\n"
          ]
        }
      ]
    },
    {
      "cell_type": "code",
      "source": [
        "thislist = [\"python\", \"java\", \"SQL\"]\n",
        "mylist = thislist.copy()\n",
        "print(mylist)"
      ],
      "metadata": {
        "colab": {
          "base_uri": "https://localhost:8080/"
        },
        "id": "YhSzwuE0oFgp",
        "outputId": "60757385-1e8e-4ecf-ccfc-24729eff6140"
      },
      "execution_count": null,
      "outputs": [
        {
          "output_type": "stream",
          "name": "stdout",
          "text": [
            "['python', 'java', 'SQL']\n"
          ]
        }
      ]
    },
    {
      "cell_type": "code",
      "source": [
        "thislist = [\"python\", \"java\", \"SQL\"]\n",
        "mylist = list(thislist)\n",
        "print(mylist)"
      ],
      "metadata": {
        "colab": {
          "base_uri": "https://localhost:8080/"
        },
        "id": "owzr8Eo4oMfY",
        "outputId": "a6c8c98d-bcc2-48de-df90-7bcedc352db1"
      },
      "execution_count": null,
      "outputs": [
        {
          "output_type": "stream",
          "name": "stdout",
          "text": [
            "['python', 'java', 'SQL']\n"
          ]
        }
      ]
    },
    {
      "cell_type": "code",
      "source": [
        "list1 = [\"python\", \"java\", \"SQL\"]\n",
        "list2 = [1, 2, 3]\n",
        "\n",
        "list3 = list1 + list2\n",
        "print(list3)"
      ],
      "metadata": {
        "colab": {
          "base_uri": "https://localhost:8080/"
        },
        "id": "c09WtwUtoQOe",
        "outputId": "39deeb13-2e01-4fb6-ce77-b02049407f60"
      },
      "execution_count": null,
      "outputs": [
        {
          "output_type": "stream",
          "name": "stdout",
          "text": [
            "['python', 'java', 'SQL', 1, 2, 3]\n"
          ]
        }
      ]
    },
    {
      "cell_type": "code",
      "source": [
        "list1 = [\"python\", \"java\", \"SQL\"]\n",
        "list2 = [1, 2, 3]\n",
        "\n",
        "for x in list2:\n",
        "  list1.append(x)\n",
        "\n",
        "print(list1)"
      ],
      "metadata": {
        "colab": {
          "base_uri": "https://localhost:8080/"
        },
        "id": "94N5lQYToTJo",
        "outputId": "3f6a45ac-fd34-45c4-ba7e-18d013032051"
      },
      "execution_count": null,
      "outputs": [
        {
          "output_type": "stream",
          "name": "stdout",
          "text": [
            "['python', 'java', 'SQL', 1, 2, 3]\n"
          ]
        }
      ]
    },
    {
      "cell_type": "code",
      "source": [
        ""
      ],
      "metadata": {
        "id": "QZP-WimkoVPc"
      },
      "execution_count": null,
      "outputs": []
    }
  ]
}