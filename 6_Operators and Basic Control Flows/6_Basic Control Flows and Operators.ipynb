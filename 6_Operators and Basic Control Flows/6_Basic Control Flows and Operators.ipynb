{
  "nbformat": 4,
  "nbformat_minor": 0,
  "metadata": {
    "colab": {
      "name": "6_Control Flows and Operators.ipynb",
      "provenance": []
    },
    "kernelspec": {
      "name": "python3",
      "display_name": "Python 3"
    },
    "language_info": {
      "name": "python"
    }
  },
  "cells": [
    {
      "cell_type": "code",
      "execution_count": null,
      "metadata": {
        "colab": {
          "base_uri": "https://localhost:8080/"
        },
        "id": "xlSTFhySdCf3",
        "outputId": "73534f42-f39a-4baf-fbaf-c316238c14cb"
      },
      "outputs": [
        {
          "output_type": "stream",
          "name": "stdout",
          "text": [
            "Enter name of pet : fish\n",
            "You have a fish\n"
          ]
        }
      ],
      "source": [
        "pet_type = input('Enter name of pet : ')\n",
        " \n",
        "if pet_type == \"dog\":\n",
        "  print(\"You have a dog.\")\n",
        "elif pet_type == \"cat\":\n",
        "  print(\"You have a cat.\")\n",
        "elif pet_type == \"fish\":\n",
        "  # this is performed\n",
        "  print(\"You have a fish\")\n",
        "else:\n",
        "  print(\"Not sure!\")"
      ]
    },
    {
      "cell_type": "markdown",
      "source": [
        "The Python elif statement allows for continued checks to be performed after an initial if statement. An elif statement differs from the else statement because another expression is provided to be checked, just as with the initial if statement.\n",
        "\n",
        "If the expression is True, the indented code following the elif is executed. If the expression evaluates to False, the code can continue to an optional else statement. Multiple elif statements can be used following an initial if to perform a series of checks. Once an elif expression evaluates to True, no further elif statements are executed."
      ],
      "metadata": {
        "id": "m0xAAfkFdhcZ"
      }
    },
    {
      "cell_type": "markdown",
      "source": [
        "Python divides the operators in the following groups:\n",
        "\n",
        "- Arithmetic operators\n",
        "- Assignment operators\n",
        "- Comparison operators\n",
        "- Logical operators\n",
        "- Identity operators\n",
        "Membership operators\n",
        "Bitwise operators"
      ],
      "metadata": {
        "id": "oeVy-cNid6Hr"
      }
    },
    {
      "cell_type": "markdown",
      "source": [
        "## Python Arithmetic Operators\n"
      ],
      "metadata": {
        "id": "0LyDO42Zgzdk"
      }
    },
    {
      "cell_type": "code",
      "source": [
        "#Addition\n",
        "2+3\n"
      ],
      "metadata": {
        "colab": {
          "base_uri": "https://localhost:8080/"
        },
        "id": "pe4fwU24dRq-",
        "outputId": "b8d58775-3bae-4592-a7a2-83e82f00b359"
      },
      "execution_count": null,
      "outputs": [
        {
          "output_type": "execute_result",
          "data": {
            "text/plain": [
              "5"
            ]
          },
          "metadata": {},
          "execution_count": 4
        }
      ]
    },
    {
      "cell_type": "code",
      "source": [
        "#Subtraction\n",
        "6-9\n"
      ],
      "metadata": {
        "colab": {
          "base_uri": "https://localhost:8080/"
        },
        "id": "PzaYdPC0gQw0",
        "outputId": "db17e39b-4c5b-4ad7-a7d1-83557315152b"
      },
      "execution_count": null,
      "outputs": [
        {
          "output_type": "execute_result",
          "data": {
            "text/plain": [
              "-3"
            ]
          },
          "metadata": {},
          "execution_count": 5
        }
      ]
    },
    {
      "cell_type": "code",
      "source": [
        "#Multiplication\n",
        "8*8\n"
      ],
      "metadata": {
        "colab": {
          "base_uri": "https://localhost:8080/"
        },
        "id": "Bau3ljp3go0O",
        "outputId": "7245f87d-4e00-4964-bc59-f5179a47a7b3"
      },
      "execution_count": null,
      "outputs": [
        {
          "output_type": "execute_result",
          "data": {
            "text/plain": [
              "64"
            ]
          },
          "metadata": {},
          "execution_count": 6
        }
      ]
    },
    {
      "cell_type": "code",
      "source": [
        "#Division\n",
        "6/2\n"
      ],
      "metadata": {
        "colab": {
          "base_uri": "https://localhost:8080/"
        },
        "id": "fFZiJSMjgqK8",
        "outputId": "b17c71b1-1bba-43c5-a3d7-222080d2f883"
      },
      "execution_count": null,
      "outputs": [
        {
          "output_type": "execute_result",
          "data": {
            "text/plain": [
              "3.0"
            ]
          },
          "metadata": {},
          "execution_count": 7
        }
      ]
    },
    {
      "cell_type": "code",
      "source": [
        "#Modulus\n",
        "10%3\n"
      ],
      "metadata": {
        "colab": {
          "base_uri": "https://localhost:8080/"
        },
        "id": "owgPKyYegrmS",
        "outputId": "5f26e300-ca9c-45f1-e6d0-04faa1d7964d"
      },
      "execution_count": null,
      "outputs": [
        {
          "output_type": "execute_result",
          "data": {
            "text/plain": [
              "1"
            ]
          },
          "metadata": {},
          "execution_count": 8
        }
      ]
    },
    {
      "cell_type": "code",
      "source": [
        "#Exponentiation\n",
        "5**6\n"
      ],
      "metadata": {
        "colab": {
          "base_uri": "https://localhost:8080/"
        },
        "id": "jGQObopEgtAt",
        "outputId": "a345ca72-94e4-4338-b41a-ac3a465ec4a5"
      },
      "execution_count": null,
      "outputs": [
        {
          "output_type": "execute_result",
          "data": {
            "text/plain": [
              "15625"
            ]
          },
          "metadata": {},
          "execution_count": 10
        }
      ]
    },
    {
      "cell_type": "code",
      "source": [
        "#Floor division\t\n",
        "10//3"
      ],
      "metadata": {
        "colab": {
          "base_uri": "https://localhost:8080/"
        },
        "id": "5vTwQJlIgtm-",
        "outputId": "15cab219-d096-4b98-d2c7-d475e5d2b033"
      },
      "execution_count": null,
      "outputs": [
        {
          "output_type": "execute_result",
          "data": {
            "text/plain": [
              "3"
            ]
          },
          "metadata": {},
          "execution_count": 11
        }
      ]
    },
    {
      "cell_type": "code",
      "source": [
        ""
      ],
      "metadata": {
        "id": "b0IWo2xdgvyS"
      },
      "execution_count": null,
      "outputs": []
    },
    {
      "cell_type": "markdown",
      "source": [
        "## Python Arithmetic Operators\n"
      ],
      "metadata": {
        "id": "1y-Gumaeg3eE"
      }
    },
    {
      "cell_type": "code",
      "source": [
        "x = 5\t\n",
        "x"
      ],
      "metadata": {
        "colab": {
          "base_uri": "https://localhost:8080/"
        },
        "id": "kZgqHHnEg6Kq",
        "outputId": "ab4f9cb9-ac62-4854-93ab-9c31c1b5d5a9"
      },
      "execution_count": null,
      "outputs": [
        {
          "output_type": "execute_result",
          "data": {
            "text/plain": [
              "5"
            ]
          },
          "metadata": {},
          "execution_count": 12
        }
      ]
    },
    {
      "cell_type": "code",
      "source": [
        "a = x + 3\t\n",
        "a"
      ],
      "metadata": {
        "colab": {
          "base_uri": "https://localhost:8080/"
        },
        "id": "67rZu63-g_xp",
        "outputId": "b9490691-3aa1-4e71-9f8a-36ddf8f3c4eb"
      },
      "execution_count": null,
      "outputs": [
        {
          "output_type": "execute_result",
          "data": {
            "text/plain": [
              "11"
            ]
          },
          "metadata": {},
          "execution_count": 15
        }
      ]
    },
    {
      "cell_type": "code",
      "source": [
        "x -= 3"
      ],
      "metadata": {
        "id": "2ctLjn7dhCkG"
      },
      "execution_count": null,
      "outputs": []
    },
    {
      "cell_type": "markdown",
      "source": [
        "## Python Comparison Operators\n"
      ],
      "metadata": {
        "id": "LR4dt5rOhNIS"
      }
    },
    {
      "cell_type": "code",
      "source": [
        "#equal\n",
        "x = 10\n",
        "y = 5\n",
        "x == y"
      ],
      "metadata": {
        "colab": {
          "base_uri": "https://localhost:8080/"
        },
        "id": "xV8Jc1VUhJsn",
        "outputId": "f52f7f1a-4260-4cf9-e1b9-22aac0049d2c"
      },
      "execution_count": null,
      "outputs": [
        {
          "output_type": "execute_result",
          "data": {
            "text/plain": [
              "False"
            ]
          },
          "metadata": {},
          "execution_count": 18
        }
      ]
    },
    {
      "cell_type": "code",
      "source": [
        "#Not equal\t\n",
        "\n",
        "x != y"
      ],
      "metadata": {
        "colab": {
          "base_uri": "https://localhost:8080/"
        },
        "id": "mCzfvMoVhRbG",
        "outputId": "59c57397-201c-40ce-8c81-5d05d7ecab11"
      },
      "execution_count": null,
      "outputs": [
        {
          "output_type": "execute_result",
          "data": {
            "text/plain": [
              "True"
            ]
          },
          "metadata": {},
          "execution_count": 20
        }
      ]
    },
    {
      "cell_type": "code",
      "source": [
        "#Greater than\n",
        "x > y"
      ],
      "metadata": {
        "colab": {
          "base_uri": "https://localhost:8080/"
        },
        "id": "YMJNiDDIhUfn",
        "outputId": "94f14ce3-3d71-4533-e573-f2fef1c98975"
      },
      "execution_count": null,
      "outputs": [
        {
          "output_type": "execute_result",
          "data": {
            "text/plain": [
              "True"
            ]
          },
          "metadata": {},
          "execution_count": 21
        }
      ]
    },
    {
      "cell_type": "code",
      "source": [
        "#Less than\n",
        "x < y"
      ],
      "metadata": {
        "colab": {
          "base_uri": "https://localhost:8080/"
        },
        "id": "IhXfGEa6hV-l",
        "outputId": "2afbd2f0-8f41-422d-fb7f-3083638c984a"
      },
      "execution_count": null,
      "outputs": [
        {
          "output_type": "execute_result",
          "data": {
            "text/plain": [
              "False"
            ]
          },
          "metadata": {},
          "execution_count": 22
        }
      ]
    },
    {
      "cell_type": "code",
      "source": [
        "#Greater than or equal to\n",
        "x >= y"
      ],
      "metadata": {
        "colab": {
          "base_uri": "https://localhost:8080/"
        },
        "id": "vBjufmiyhXgE",
        "outputId": "b0ff92d5-ccd3-4fed-8762-825fd2ab56ad"
      },
      "execution_count": null,
      "outputs": [
        {
          "output_type": "execute_result",
          "data": {
            "text/plain": [
              "True"
            ]
          },
          "metadata": {},
          "execution_count": 23
        }
      ]
    },
    {
      "cell_type": "code",
      "source": [
        "#Less than or equal to\n",
        "x <= y"
      ],
      "metadata": {
        "colab": {
          "base_uri": "https://localhost:8080/"
        },
        "id": "4V0UN1zBhY4b",
        "outputId": "8bc769e1-9685-4eae-da2d-38be310bb385"
      },
      "execution_count": null,
      "outputs": [
        {
          "output_type": "execute_result",
          "data": {
            "text/plain": [
              "False"
            ]
          },
          "metadata": {},
          "execution_count": 24
        }
      ]
    },
    {
      "cell_type": "markdown",
      "source": [
        "### Python Logical Operators\n"
      ],
      "metadata": {
        "id": "F5FMjmdSiRi8"
      }
    },
    {
      "cell_type": "code",
      "source": [
        "x < 5 and  x < 10"
      ],
      "metadata": {
        "colab": {
          "base_uri": "https://localhost:8080/"
        },
        "id": "o1_fJJEfiPts",
        "outputId": "4ab95a1b-de72-4cc9-fac0-52af4f4ccc0b"
      },
      "execution_count": null,
      "outputs": [
        {
          "output_type": "execute_result",
          "data": {
            "text/plain": [
              "False"
            ]
          },
          "metadata": {},
          "execution_count": 25
        }
      ]
    },
    {
      "cell_type": "code",
      "source": [
        "x < 5 or x < 4"
      ],
      "metadata": {
        "colab": {
          "base_uri": "https://localhost:8080/"
        },
        "id": "NOAQR08AiWPh",
        "outputId": "78250cd3-c7d6-4382-e260-e84c34c708f1"
      },
      "execution_count": null,
      "outputs": [
        {
          "output_type": "execute_result",
          "data": {
            "text/plain": [
              "False"
            ]
          },
          "metadata": {},
          "execution_count": 26
        }
      ]
    },
    {
      "cell_type": "code",
      "source": [
        "not(x < 5 and x < 10)"
      ],
      "metadata": {
        "colab": {
          "base_uri": "https://localhost:8080/"
        },
        "id": "SmgrW16SiYSi",
        "outputId": "dbce2418-74d9-49c2-bc4e-fb32e38023f8"
      },
      "execution_count": null,
      "outputs": [
        {
          "output_type": "execute_result",
          "data": {
            "text/plain": [
              "True"
            ]
          },
          "metadata": {},
          "execution_count": 27
        }
      ]
    },
    {
      "cell_type": "markdown",
      "source": [
        "Python Identity Operators\n"
      ],
      "metadata": {
        "id": "dhhFHeX5ib0-"
      }
    },
    {
      "cell_type": "code",
      "source": [
        "x is y"
      ],
      "metadata": {
        "colab": {
          "base_uri": "https://localhost:8080/"
        },
        "id": "tRKTqJMViaCh",
        "outputId": "5ce01ae2-4db1-47df-bfa1-19682b413911"
      },
      "execution_count": null,
      "outputs": [
        {
          "output_type": "execute_result",
          "data": {
            "text/plain": [
              "False"
            ]
          },
          "metadata": {},
          "execution_count": 28
        }
      ]
    },
    {
      "cell_type": "code",
      "source": [
        "x is not y"
      ],
      "metadata": {
        "colab": {
          "base_uri": "https://localhost:8080/"
        },
        "id": "7m80gdsXie4E",
        "outputId": "de139dd8-4dd4-4ca3-e2e6-c0c0278436fb"
      },
      "execution_count": null,
      "outputs": [
        {
          "output_type": "execute_result",
          "data": {
            "text/plain": [
              "True"
            ]
          },
          "metadata": {},
          "execution_count": 30
        }
      ]
    },
    {
      "cell_type": "markdown",
      "source": [
        "Python Membership Operators\n"
      ],
      "metadata": {
        "id": "wcxEO9_kikfC"
      }
    },
    {
      "cell_type": "code",
      "source": [
        "a = 'my name is vivek'\n",
        "b = 'vivek'\n",
        "a in b"
      ],
      "metadata": {
        "colab": {
          "base_uri": "https://localhost:8080/"
        },
        "id": "66nimqA7igks",
        "outputId": "120d0d2a-b64e-4301-93f9-75cd8b715d7f"
      },
      "execution_count": null,
      "outputs": [
        {
          "output_type": "execute_result",
          "data": {
            "text/plain": [
              "False"
            ]
          },
          "metadata": {},
          "execution_count": 32
        }
      ]
    },
    {
      "cell_type": "code",
      "source": [
        "a = 'my name is vivek'\n",
        "b = 'vivek'\n",
        "a not in b"
      ],
      "metadata": {
        "colab": {
          "base_uri": "https://localhost:8080/"
        },
        "id": "WqyOYQSAimNB",
        "outputId": "82bdee55-843a-4b7f-b6ac-d42318f9be2b"
      },
      "execution_count": null,
      "outputs": [
        {
          "output_type": "execute_result",
          "data": {
            "text/plain": [
              "True"
            ]
          },
          "metadata": {},
          "execution_count": 33
        }
      ]
    },
    {
      "cell_type": "markdown",
      "source": [
        "Python Bitwise Operators\n",
        "| & |\tAND\tSets each bit to 1 if both bits are 1\n",
        "|\tOR |\tSets each bit to 1 if one of two bits is 1\n",
        "|\t^\t|\tXOR\tSets each bit to 1 if only one of two bits is 1\n",
        "|\t~ \t|\tNOT\tInverts all the bits\n",
        "|\t<<\t|\tZero fill left shift\tShift left by pushing zeros in from the right and let the leftmost bits fall off\n",
        "|\t>> |\t\tSigned right shift\tShift right by pushing copies of the leftmost bit in from the left, and let the rightmost bits fall off"
      ],
      "metadata": {
        "id": "SinwduMMi2jy"
      }
    },
    {
      "cell_type": "code",
      "source": [
        ""
      ],
      "metadata": {
        "id": "msVqhbVPiz-s"
      },
      "execution_count": null,
      "outputs": []
    }
  ]
}