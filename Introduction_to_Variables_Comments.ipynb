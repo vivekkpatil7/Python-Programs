{
  "nbformat": 4,
  "nbformat_minor": 0,
  "metadata": {
    "colab": {
      "name": "Introduction to Variables - Comments.ipynb",
      "provenance": []
    },
    "kernelspec": {
      "name": "python3",
      "display_name": "Python 3"
    },
    "language_info": {
      "name": "python"
    }
  },
  "cells": [
    {
      "cell_type": "markdown",
      "source": [
        "###Comments\n",
        "Python has commenting capability for the purpose of in-code documentation.\n",
        "\n",
        "Comments start with a #, and Python will render the rest of the line as a comment:"
      ],
      "metadata": {
        "id": "nrVucMZK7_QN"
      }
    },
    {
      "cell_type": "code",
      "execution_count": 5,
      "metadata": {
        "id": "jP35w4K_5owi",
        "colab": {
          "base_uri": "https://localhost:8080/"
        },
        "outputId": "fa805411-74b1-41ba-de6c-da980b94951c"
      },
      "outputs": [
        {
          "output_type": "stream",
          "name": "stdout",
          "text": [
            "Hello, World!\n"
          ]
        }
      ],
      "source": [
        "#This is a comment.\n",
        "print(\"Hello, World!\")\n"
      ]
    },
    {
      "cell_type": "code",
      "source": [
        "\n",
        "#This is a comment\n"
      ],
      "metadata": {
        "id": "BSpGn6c28QzV"
      },
      "execution_count": 6,
      "outputs": []
    },
    {
      "cell_type": "code",
      "source": [
        "'''\n",
        "This is a comment\n",
        "written in \n",
        "more that just one line\n",
        "'''"
      ],
      "metadata": {
        "colab": {
          "base_uri": "https://localhost:8080/",
          "height": 35
        },
        "id": "NjrwtfX99Deb",
        "outputId": "dfc940c0-e4be-42d9-b52c-8ff313fb1887"
      },
      "execution_count": 7,
      "outputs": [
        {
          "output_type": "execute_result",
          "data": {
            "application/vnd.google.colaboratory.intrinsic+json": {
              "type": "string"
            },
            "text/plain": [
              "'\\nThis is a comment\\nwritten in \\nmore that just one line\\n'"
            ]
          },
          "metadata": {},
          "execution_count": 7
        }
      ]
    },
    {
      "cell_type": "markdown",
      "source": [
        "###Python Variables\n",
        "Variables are containers for storing data values"
      ],
      "metadata": {
        "id": "Oqygapcg9deK"
      }
    },
    {
      "cell_type": "code",
      "source": [
        "myvar = \"Github\"\n",
        "my_var = \"Github\"\n",
        "_my_var = \"Github\"\n",
        "myVar = \"Github\"\n",
        "MYVAR = \"Github\"\n",
        "myvar2 = \"Github\""
      ],
      "metadata": {
        "id": "354VcjGh9jht"
      },
      "execution_count": 8,
      "outputs": []
    },
    {
      "cell_type": "markdown",
      "source": [
        "Variable Names\n",
        "- A variable can have a short name (like x and y) or a more descriptive name (age, carname, total_volume). Rules for Python variables:\n",
        "- A variable name must start with a letter or the underscore character\n",
        "- A variable name cannot start with a number\n",
        "- A variable name can only contain alpha-numeric characters and underscores (A-z, 0-9, and _ )\n",
        "- Variable names are case-sensitive (age, Age and AGE are three different variables)"
      ],
      "metadata": {
        "id": "4EDnrrnT-deG"
      }
    },
    {
      "cell_type": "code",
      "source": [
        "#Camel Case\n",
        "myVariableName = \"Python\""
      ],
      "metadata": {
        "id": "Auqxu-ki-qGh"
      },
      "execution_count": 9,
      "outputs": []
    },
    {
      "cell_type": "code",
      "source": [
        "#Pascal Case\n",
        "MyVariableName = \"Python\""
      ],
      "metadata": {
        "id": "b13gUXC8-wBt"
      },
      "execution_count": 10,
      "outputs": []
    },
    {
      "cell_type": "code",
      "source": [
        "#Snake Case\n",
        "my_variable_name = \"Python\""
      ],
      "metadata": {
        "id": "q_Ji3ybu-5wx"
      },
      "execution_count": 11,
      "outputs": []
    },
    {
      "cell_type": "markdown",
      "source": [
        "Reserved Words\n",
        "In Python some words are reserved to represent some meaning or functionality. Such type of words are called Reserved words.\n",
        "There are 33 reserved words available in Python.\n",
        "- True,False,None\n",
        "- and, or ,not,is\n",
        "- if,elif,else\n",
        "- while,for,break,continue,return,in,yield\n",
        "- try,except,finally,raise,assert\n",
        "- import,from,as,class,def,pass,global,nonlocal,lambda,del,with"
      ],
      "metadata": {
        "id": "uMtV9bLU_5Ph"
      }
    },
    {
      "cell_type": "code",
      "source": [
        "import keyword\n",
        "keyword.kwlist"
      ],
      "metadata": {
        "colab": {
          "base_uri": "https://localhost:8080/"
        },
        "id": "OygDw2bUAEmS",
        "outputId": "befb1561-cd07-4431-abc2-8f9c16af8982"
      },
      "execution_count": 12,
      "outputs": [
        {
          "output_type": "execute_result",
          "data": {
            "text/plain": [
              "['False',\n",
              " 'None',\n",
              " 'True',\n",
              " 'and',\n",
              " 'as',\n",
              " 'assert',\n",
              " 'async',\n",
              " 'await',\n",
              " 'break',\n",
              " 'class',\n",
              " 'continue',\n",
              " 'def',\n",
              " 'del',\n",
              " 'elif',\n",
              " 'else',\n",
              " 'except',\n",
              " 'finally',\n",
              " 'for',\n",
              " 'from',\n",
              " 'global',\n",
              " 'if',\n",
              " 'import',\n",
              " 'in',\n",
              " 'is',\n",
              " 'lambda',\n",
              " 'nonlocal',\n",
              " 'not',\n",
              " 'or',\n",
              " 'pass',\n",
              " 'raise',\n",
              " 'return',\n",
              " 'try',\n",
              " 'while',\n",
              " 'with',\n",
              " 'yield']"
            ]
          },
          "metadata": {},
          "execution_count": 12
        }
      ]
    },
    {
      "cell_type": "code",
      "source": [
        "#Many Values to Multiple Variables\n",
        "x, y, z = \"Orange\", \"Banana\", \"Cherry\"\n",
        "print(x)\n",
        "print(y)\n",
        "print(z)"
      ],
      "metadata": {
        "colab": {
          "base_uri": "https://localhost:8080/"
        },
        "id": "ErMbpgJNAqIa",
        "outputId": "ac20ae69-d834-4e63-8a94-60b9785ad6ef"
      },
      "execution_count": 13,
      "outputs": [
        {
          "output_type": "stream",
          "name": "stdout",
          "text": [
            "Orange\n",
            "Banana\n",
            "Cherry\n"
          ]
        }
      ]
    },
    {
      "cell_type": "code",
      "source": [
        "#One Value to Multiple Variables\n",
        "x = y = z = \"Orange\"\n",
        "print(x)\n",
        "print(y)\n",
        "print(z)"
      ],
      "metadata": {
        "colab": {
          "base_uri": "https://localhost:8080/"
        },
        "id": "LMQRbDe5AuGe",
        "outputId": "49fa6bcb-50b3-472f-d8d1-4c931c3486a4"
      },
      "execution_count": 14,
      "outputs": [
        {
          "output_type": "stream",
          "name": "stdout",
          "text": [
            "Orange\n",
            "Orange\n",
            "Orange\n"
          ]
        }
      ]
    },
    {
      "cell_type": "code",
      "source": [
        "#Unpack a Collection\n",
        "#If you have a collection of values in a list, tuple etc. Python allows you to extract the values into variables. This is called unpacking.\n",
        "\n",
        "fruits = [\"apple\", \"banana\", \"cherry\"]\n",
        "x, y, z = fruits\n",
        "print(x)\n",
        "print(y)\n",
        "print(z)"
      ],
      "metadata": {
        "colab": {
          "base_uri": "https://localhost:8080/"
        },
        "id": "Fx9V9dB0AyF9",
        "outputId": "7bbe4d41-659c-4445-ddca-3657a1f26df0"
      },
      "execution_count": 15,
      "outputs": [
        {
          "output_type": "stream",
          "name": "stdout",
          "text": [
            "apple\n",
            "banana\n",
            "cherry\n"
          ]
        }
      ]
    },
    {
      "cell_type": "code",
      "source": [
        "name = \"A\"  \n",
        "Name = \"B\"  \n",
        "naMe = \"C\"  \n",
        "NAME = \"D\"  \n",
        "n_a_m_e = \"E\"  \n",
        "_name = \"F\"  \n",
        "name_ = \"G\"  \n",
        "_name_ = \"H\"  \n",
        "na56me = \"I\"  \n",
        "  \n",
        "print(name,Name,naMe,NAME,n_a_m_e, NAME, n_a_m_e, _name, name_,_name, na56me)  "
      ],
      "metadata": {
        "colab": {
          "base_uri": "https://localhost:8080/"
        },
        "id": "4mPs-Xt_DA6G",
        "outputId": "bddb0e94-0eaf-49f7-8edb-4d391bf39805"
      },
      "execution_count": 20,
      "outputs": [
        {
          "output_type": "stream",
          "name": "stdout",
          "text": [
            "A B C D E D E F G F I\n"
          ]
        }
      ]
    },
    {
      "cell_type": "code",
      "source": [
        "del myVariableName "
      ],
      "metadata": {
        "id": "9qODYd_HDU-j"
      },
      "execution_count": 24,
      "outputs": []
    },
    {
      "cell_type": "code",
      "source": [
        "myVariableName "
      ],
      "metadata": {
        "colab": {
          "base_uri": "https://localhost:8080/",
          "height": 165
        },
        "id": "AsRoHN0tDlEs",
        "outputId": "1d5eeb5c-5a69-4306-929b-559ccd7da95f"
      },
      "execution_count": 25,
      "outputs": [
        {
          "output_type": "error",
          "ename": "NameError",
          "evalue": "ignored",
          "traceback": [
            "\u001b[0;31m---------------------------------------------------------------------------\u001b[0m",
            "\u001b[0;31mNameError\u001b[0m                                 Traceback (most recent call last)",
            "\u001b[0;32m<ipython-input-25-0e721662f0e1>\u001b[0m in \u001b[0;36m<module>\u001b[0;34m()\u001b[0m\n\u001b[0;32m----> 1\u001b[0;31m \u001b[0mmyVariableName\u001b[0m\u001b[0;34m\u001b[0m\u001b[0;34m\u001b[0m\u001b[0m\n\u001b[0m",
            "\u001b[0;31mNameError\u001b[0m: name 'myVariableName' is not defined"
          ]
        }
      ]
    },
    {
      "cell_type": "code",
      "source": [
        "#Output Variables\n",
        "x = \"awesome\"\n",
        "print(\"Python is \" + x)\n"
      ],
      "metadata": {
        "colab": {
          "base_uri": "https://localhost:8080/"
        },
        "id": "rw9uWVZbBMJH",
        "outputId": "8ed34c65-9da0-4c64-de2f-d138219e4a24"
      },
      "execution_count": 16,
      "outputs": [
        {
          "output_type": "stream",
          "name": "stdout",
          "text": [
            "Python is awesome\n"
          ]
        }
      ]
    },
    {
      "cell_type": "code",
      "source": [
        "x = \"Python is \"\n",
        "y = \"awesome\"\n",
        "z =  x + y\n",
        "print(z)\n"
      ],
      "metadata": {
        "colab": {
          "base_uri": "https://localhost:8080/"
        },
        "id": "l2QcTmHwBQ8_",
        "outputId": "c08f11e7-0802-4015-86f6-228a8db0c207"
      },
      "execution_count": 17,
      "outputs": [
        {
          "output_type": "stream",
          "name": "stdout",
          "text": [
            "Python is awesome\n"
          ]
        }
      ]
    },
    {
      "cell_type": "code",
      "source": [
        "x = 5\n",
        "y = 10\n",
        "print(x + y)\n"
      ],
      "metadata": {
        "colab": {
          "base_uri": "https://localhost:8080/"
        },
        "id": "zL1MaHd9BTg1",
        "outputId": "112204ec-ccca-4da4-da5a-39231fbedf31"
      },
      "execution_count": 18,
      "outputs": [
        {
          "output_type": "stream",
          "name": "stdout",
          "text": [
            "15\n"
          ]
        }
      ]
    },
    {
      "cell_type": "code",
      "source": [
        "#Global Variables\n",
        "#Variables that are created outside of a function (as in all of the examples above) are known as global variables.\n",
        "#Global variables can be used by everyone, both inside of functions and outside.\n",
        "x = \"awesome\"\n",
        "\n",
        "def myfunc():\n",
        "  print(\"Python is \" + x)\n",
        "\n",
        "myfunc()\n",
        "\n",
        "\n"
      ],
      "metadata": {
        "colab": {
          "base_uri": "https://localhost:8080/"
        },
        "id": "hrHCQkdsBdDH",
        "outputId": "be39f346-7ded-4130-c0a1-df0fdecb8bb4"
      },
      "execution_count": 19,
      "outputs": [
        {
          "output_type": "stream",
          "name": "stdout",
          "text": [
            "Python is awesome\n"
          ]
        }
      ]
    },
    {
      "cell_type": "markdown",
      "source": [
        "#Data Type\n",
        "represent the type of data present inside a variable.\n",
        "In Python we are not required to specify the type explicitly. Based on value provided,the \n",
        "type will be assigned automatically.Hence Python is Dynamically Typed Language."
      ],
      "metadata": {
        "id": "qH8DTYx_Ahdg"
      }
    },
    {
      "cell_type": "markdown",
      "source": [
        "Basic Fundamentals:\n",
        "\n",
        "This section contains the fundamentals of Python, such as:\n",
        "\n",
        "i)Tokens and their types.\n",
        "\n",
        "ii) Comments\n",
        "\n",
        "a)Tokens:\n",
        "\n",
        "The tokens can be defined as a punctuator mark, reserved words, and each word in a statement.\n",
        "The token is the smallest unit inside the given program.\n",
        "There are following tokens in Python:\n",
        "\n",
        "Keywords.\n",
        "- Identifiers.(variables)\n",
        "- Literals.\n",
        "- Operators.(+,-,*,/,=)"
      ],
      "metadata": {
        "id": "5ED4th1kD0AM"
      }
    },
    {
      "cell_type": "markdown",
      "source": [
        "What are Python literals?\n",
        "\n",
        "Literals are the raw data that are assigned to variables or constants while programming. In python, we have different types of literals such as string literals, numeric literals, boolean literals and a special literal None."
      ],
      "metadata": {
        "id": "wOcOiF0nEcyz"
      }
    },
    {
      "cell_type": "code",
      "source": [
        ""
      ],
      "metadata": {
        "id": "OBcrd811Eahx"
      },
      "execution_count": null,
      "outputs": []
    },
    {
      "cell_type": "code",
      "source": [
        ""
      ],
      "metadata": {
        "id": "54te00vQALFz"
      },
      "execution_count": 19,
      "outputs": []
    }
  ]
}